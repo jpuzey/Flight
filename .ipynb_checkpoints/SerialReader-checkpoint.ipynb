{
 "cells": [
  {
   "cell_type": "code",
   "execution_count": null,
   "metadata": {},
   "outputs": [],
   "source": [
    "# Callin Switzer\n",
    "# 16 July 2019\n",
    "# python infrared reader"
   ]
  },
  {
   "cell_type": "code",
   "execution_count": 1,
   "metadata": {},
   "outputs": [],
   "source": [
    "import numpy as np\n",
    "import matplotlib.pyplot as plt\n",
    "import pandas as pd\n",
    "import serial\n",
    "import re\n",
    "import csv\n",
    "import seaborn as sns\n",
    "import warnings\n",
    "import sys\n",
    "import os\n",
    "from datetime import datetime\n",
    "import glob"
   ]
  },
  {
   "cell_type": "code",
   "execution_count": 2,
   "metadata": {},
   "outputs": [],
   "source": [
    "def is_mac():\n",
    "    mac = True if sys.platform == \"darwin\" else False\n",
    "    return(mac)\n",
    "    \n",
    "if not is_mac():\n",
    "    import msvcrt\n",
    "    import winsound"
   ]
  },
  {
   "cell_type": "code",
   "execution_count": 4,
   "metadata": {},
   "outputs": [
    {
     "name": "stdout",
     "output_type": "stream",
     "text": [
      "3.7.1 (v3.7.1:260ec2c36a, Oct 20 2018, 03:13:28) \n",
      "[Clang 6.0 (clang-600.0.57)]\n",
      "/Library/Frameworks/Python.framework/Versions/3.7/bin/python3\n"
     ]
    }
   ],
   "source": [
    "%matplotlib inline\n",
    "print(sys.version)\n",
    "print(sys.executable)\n",
    "\n",
    "# define directories\n",
    "baseDir = os.getcwd()\n",
    "\n",
    "# data for storing datafile\n",
    "dataDir = \"/Users/jpuzey/Documents/GitHub/Flight/data/\"\n",
    "if not os.path.isdir(dataDir):\n",
    "    os.mkdir(dataDir)\n",
    "\n",
    "#figDir = \"/Users/jpuzey/Desktop/testdata/fig/\"\n",
    "#if not os.path.isdir(figDir):\n",
    "#    os.mkdir(figDir)"
   ]
  },
  {
   "cell_type": "code",
   "execution_count": 5,
   "metadata": {},
   "outputs": [
    {
     "data": {
      "text/plain": [
       "['/dev/tty.Bluetooth-Incoming-Port', '/dev/tty.usbmodem401101']"
      ]
     },
     "execution_count": 5,
     "metadata": {},
     "output_type": "execute_result"
    }
   ],
   "source": [
    "def serial_ports():\n",
    "    \"\"\" Lists serial port names\n",
    "        :raises EnvironmentError:\n",
    "            On unsupported or unknown platforms\n",
    "        :returns:\n",
    "            A list of the serial ports available on the system\n",
    "    \"\"\"\n",
    "    if sys.platform.startswith('win'):\n",
    "        ports = ['COM%s' % (i + 1) for i in range(256)]\n",
    "    elif sys.platform.startswith('linux') or sys.platform.startswith('cygwin'):\n",
    "        # this excludes your current terminal \"/dev/tty\"\n",
    "        ports = glob.glob('/dev/tty[A-Za-z]*')\n",
    "    elif sys.platform.startswith('darwin'):\n",
    "        ports = glob.glob('/dev/tty.*')\n",
    "    else:\n",
    "        raise EnvironmentError('Unsupported platform')\n",
    "\n",
    "    result = []\n",
    "    for port in ports:\n",
    "        try:\n",
    "            s = serial.Serial(port)\n",
    "            s.close()\n",
    "            result.append(port)\n",
    "        except (OSError, serial.SerialException):\n",
    "            pass\n",
    "    return result\n",
    "\n",
    "# list serial ports\n",
    "serial_ports() # this arduino is on COM6"
   ]
  },
  {
   "cell_type": "code",
   "execution_count": 7,
   "metadata": {},
   "outputs": [
    {
     "name": "stdout",
     "output_type": "stream",
     "text": [
      "connected to arduino on /dev/tty.usbmodem401101\n"
     ]
    },
    {
     "data": {
      "text/plain": [
       "' Setup complete\\r\\n'"
      ]
     },
     "execution_count": 7,
     "metadata": {},
     "output_type": "execute_result"
    }
   ],
   "source": [
    "# connect to arduino\n",
    "PORT1 = '/dev/tty.usbmodem401101'\n",
    "connected1 = False\n",
    "if \"ser1\" in globals():\n",
    "    ser1.close()\n",
    "ser1 = serial.Serial(PORT1, 19200, timeout=1.0) # stop if no data comes in 1 second\n",
    "while not connected1:\n",
    "    serin1 = ser1.read()\n",
    "    connected1 = True\n",
    "    print(\"connected to arduino on \" + PORT1)\n",
    "str(ser1.readline().decode(\"UTF-8\"))  # read some example data   "
   ]
  },
  {
   "cell_type": "code",
   "execution_count": 25,
   "metadata": {},
   "outputs": [
    {
     "name": "stdout",
     "output_type": "stream",
     "text": [
      "Time elapsed (minutes): 0\n",
      "done\n"
     ]
    }
   ],
   "source": [
    "ctr = 0\n",
    "maxTime = 1 # minutes\n",
    "\n",
    "if not is_mac():\n",
    "    while msvcrt.kbhit():\n",
    "        msvcrt.getch()\n",
    "        print('clearing characters ...')\n",
    "\n",
    "while True:\n",
    "    if not is_mac():\n",
    "        if msvcrt.kbhit(): # if q, or escape is pressed, then break the loop\n",
    "            k = msvcrt.getch()\n",
    "            if(k == b'q') | (k == b'\\x1b') | (k == b'\\x0b') :\n",
    "                print(\"keyboard break\")\n",
    "                winsound.MessageBeep()\n",
    "                break\n",
    "\n",
    "    if ctr == 0:\n",
    "        \n",
    "        minuteCounter = 0\n",
    "       \n",
    "        # tell arduino to write data to serial\n",
    "        ser1.write(\"r\".encode(\"utf-8\"))\n",
    "        # discard first read line, in case it's the wrong length\n",
    "        ser1.readline()\n",
    "        \n",
    "        ser1.write(\"r\".encode(\"utf-8\"))\n",
    "        txt = ser1.readline().decode(\"utf-8\")\n",
    "        colNames = [\"A\" + str(i) for i, _ in enumerate(txt.split(','))]\n",
    "        colNames.append(\"datetime\")\n",
    "        \n",
    "        # make file  and write header\n",
    "        fileStart = datetime.now()\n",
    "        fname = (fileStart.strftime('%Y-%m-%d %H:%M:%S.%f'))\n",
    "        fname = re.sub(r'[^\\w\\s]','_',fname)\n",
    "        fname = re.sub(\" \", \"__\", fname)[0:] + \".csv\"\n",
    "\n",
    "        with open(os.path.join(dataDir, fname), 'a+', newline='') as myfile:\n",
    "            wr = csv.writer(myfile, quoting=csv.QUOTE_ALL)\n",
    "            wr.writerows([colNames])\n",
    "    \n",
    "    \n",
    "    # read data\n",
    "    ser1.write(\"r\".encode(\"utf-8\"))\n",
    "    txt = ser1.readline().decode(\"utf-8\")\n",
    "    \n",
    "    serData = [int(i) for i in txt.split(',') if i != \"\"]\n",
    "    readTime = datetime.now()\n",
    "    serData.append(readTime.strftime('%Y-%m-%d %H:%M:%S.%f'))\n",
    "\n",
    "    # write data, but only if it's not an incorrect reading\n",
    "    if (len(serData) != len(colNames)):\n",
    "        print(\"data length is different from length of columns, dropping a reading\")\n",
    "        print(serData)\n",
    "        print(colNames)\n",
    "        continue\n",
    "        \n",
    "    elif (np.max(serData[:-1]) > 1023):\n",
    "        print(\"data range incorrect, dropping a reading\")\n",
    "        continue\n",
    "    \n",
    "    else:\n",
    "        with open(os.path.join(dataDir, fname), 'a+', newline='') as myfile:\n",
    "            wr = csv.writer(myfile, quoting=csv.QUOTE_ALL)\n",
    "            wr.writerows([serData])\n",
    "\n",
    "    # print time\n",
    "    c = readTime - fileStart\n",
    "    if c.total_seconds()//60 == minuteCounter:\n",
    "        print(\"Time elapsed (minutes):\", minuteCounter)\n",
    "        minuteCounter += 5 # print every 5 minutes\n",
    "    \n",
    "    if divmod(c.days * 86400 + c.seconds, 60)[0] >= maxTime:\n",
    "        break   \n",
    "    \n",
    "    # update ctr\n",
    "    ctr += 1\n",
    "#     ser1.flushInput()\n",
    "\n",
    "print('done')"
   ]
  },
  {
   "cell_type": "code",
   "execution_count": 20,
   "metadata": {},
   "outputs": [
    {
     "data": {
      "text/plain": [
       "0.20634268333333333"
      ]
     },
     "execution_count": 20,
     "metadata": {},
     "output_type": "execute_result"
    }
   ],
   "source": [
    "c.total_seconds()/60"
   ]
  },
  {
   "cell_type": "code",
   "execution_count": 26,
   "metadata": {},
   "outputs": [
    {
     "name": "stdout",
     "output_type": "stream",
     "text": [
      "(9606, 7)\n"
     ]
    },
    {
     "data": {
      "text/html": [
       "<div>\n",
       "<style scoped>\n",
       "    .dataframe tbody tr th:only-of-type {\n",
       "        vertical-align: middle;\n",
       "    }\n",
       "\n",
       "    .dataframe tbody tr th {\n",
       "        vertical-align: top;\n",
       "    }\n",
       "\n",
       "    .dataframe thead th {\n",
       "        text-align: right;\n",
       "    }\n",
       "</style>\n",
       "<table border=\"1\" class=\"dataframe\">\n",
       "  <thead>\n",
       "    <tr style=\"text-align: right;\">\n",
       "      <th></th>\n",
       "      <th>A0</th>\n",
       "      <th>A1</th>\n",
       "      <th>A2</th>\n",
       "      <th>A3</th>\n",
       "      <th>A4</th>\n",
       "      <th>A5</th>\n",
       "      <th>datetime</th>\n",
       "    </tr>\n",
       "  </thead>\n",
       "  <tbody>\n",
       "    <tr>\n",
       "      <th>9601</th>\n",
       "      <td>101</td>\n",
       "      <td>104</td>\n",
       "      <td>107</td>\n",
       "      <td>110</td>\n",
       "      <td>115</td>\n",
       "      <td>117</td>\n",
       "      <td>2019-09-05 10:50:31.606483</td>\n",
       "    </tr>\n",
       "    <tr>\n",
       "      <th>9602</th>\n",
       "      <td>100</td>\n",
       "      <td>104</td>\n",
       "      <td>108</td>\n",
       "      <td>112</td>\n",
       "      <td>117</td>\n",
       "      <td>118</td>\n",
       "      <td>2019-09-05 10:50:31.618841</td>\n",
       "    </tr>\n",
       "    <tr>\n",
       "      <th>9603</th>\n",
       "      <td>101</td>\n",
       "      <td>103</td>\n",
       "      <td>107</td>\n",
       "      <td>111</td>\n",
       "      <td>118</td>\n",
       "      <td>121</td>\n",
       "      <td>2019-09-05 10:50:31.631234</td>\n",
       "    </tr>\n",
       "    <tr>\n",
       "      <th>9604</th>\n",
       "      <td>100</td>\n",
       "      <td>103</td>\n",
       "      <td>107</td>\n",
       "      <td>110</td>\n",
       "      <td>116</td>\n",
       "      <td>122</td>\n",
       "      <td>2019-09-05 10:50:31.643540</td>\n",
       "    </tr>\n",
       "    <tr>\n",
       "      <th>9605</th>\n",
       "      <td>101</td>\n",
       "      <td>104</td>\n",
       "      <td>107</td>\n",
       "      <td>110</td>\n",
       "      <td>115</td>\n",
       "      <td>119</td>\n",
       "      <td>2019-09-05 10:50:31.655766</td>\n",
       "    </tr>\n",
       "  </tbody>\n",
       "</table>\n",
       "</div>"
      ],
      "text/plain": [
       "       A0   A1   A2   A3   A4   A5                   datetime\n",
       "9601  101  104  107  110  115  117 2019-09-05 10:50:31.606483\n",
       "9602  100  104  108  112  117  118 2019-09-05 10:50:31.618841\n",
       "9603  101  103  107  111  118  121 2019-09-05 10:50:31.631234\n",
       "9604  100  103  107  110  116  122 2019-09-05 10:50:31.643540\n",
       "9605  101  104  107  110  115  119 2019-09-05 10:50:31.655766"
      ]
     },
     "execution_count": 26,
     "metadata": {},
     "output_type": "execute_result"
    }
   ],
   "source": [
    "# look at data\n",
    "# read in data\n",
    "dfile = os.path.join(dataDir,fname)\n",
    "df1 = pd.read_csv(dfile)\n",
    "#df1 = df1.iloc[1500:2000,:].copy()\n",
    "df1['datetime']= pd.to_datetime(df1['datetime'])\n",
    "print(df1.shape)\n",
    "df1.tail()"
   ]
  },
  {
   "cell_type": "code",
   "execution_count": 27,
   "metadata": {},
   "outputs": [
    {
     "data": {
      "image/png": "[encoded data removed]",
      "text/plain": [
       "<Figure size 1440x504 with 1 Axes>"
      ]
     },
     "metadata": {
      "needs_background": "light"
     },
     "output_type": "display_data"
    }
   ],
   "source": [
    "fig, ax = plt.subplots(1,1, figsize = [20,7])\n",
    "for ii in range(3):\n",
    "    ax.plot(df1.datetime, df1.iloc[:,ii])\n",
    "fig.autofmt_xdate()\n",
    "plt.show()\n"
   ]
  },
  {
   "cell_type": "code",
   "execution_count": 28,
   "metadata": {},
   "outputs": [
    {
     "data": {
      "text/plain": [
       "'2019_09_05__10_48_31_653689.csv'"
      ]
     },
     "execution_count": 28,
     "metadata": {},
     "output_type": "execute_result"
    }
   ],
   "source": [
    "fname"
   ]
  },
  {
   "cell_type": "code",
   "execution_count": 29,
   "metadata": {},
   "outputs": [
    {
     "data": {
      "text/plain": [
       "Text(0.5, 0, 'sample num')"
      ]
     },
     "execution_count": 29,
     "metadata": {},
     "output_type": "execute_result"
    },
    {
     "data": {
      "image/png": "[encoded data removed]",
      "text/plain": [
       "<Figure size 432x288 with 1 Axes>"
      ]
     },
     "metadata": {
      "needs_background": "light"
     },
     "output_type": "display_data"
    }
   ],
   "source": [
    "# calculate sampling rate\n",
    "# we can speed this up if needed\n",
    "# it's not super constant\n",
    "timeDiff = df1.datetime.diff() / np.timedelta64(1, 's')\n",
    "plt.plot(1/timeDiff, 'bo')\n",
    "plt.ylabel(\"Hz\")\n",
    "plt.xlabel(\"sample num\")"
   ]
  },
  {
   "cell_type": "code",
   "execution_count": 31,
   "metadata": {},
   "outputs": [
    {
     "data": {
      "text/plain": [
       "Text(0.5, 0, 'sample num')"
      ]
     },
     "execution_count": 31,
     "metadata": {},
     "output_type": "execute_result"
    },
    {
     "data": {
      "image/png": "[encoded data removed]",
      "text/plain": [
       "<Figure size 432x288 with 1 Axes>"
      ]
     },
     "metadata": {
      "needs_background": "light"
     },
     "output_type": "display_data"
    }
   ],
   "source": [
    "# calculate sampling rate\n",
    "# we can speed this up if needed\n",
    "# it's not super constant\n",
    "timeDiff = df1.datetime.diff() / np.timedelta64(1, 's')\n",
    "plt.plot(1/timeDiff, 'bo')\n",
    "plt.ylim((0, 100))  \n",
    "plt.ylabel(\"Hz\")\n",
    "plt.xlabel(\"sample num\")"
   ]
  },
  {
   "cell_type": "code",
   "execution_count": 18,
   "metadata": {},
   "outputs": [
    {
     "data": {
      "text/plain": [
       "Text(0.5, 0, 'sample num')"
      ]
     },
     "execution_count": 18,
     "metadata": {},
     "output_type": "execute_result"
    },
    {
     "data": {
      "image/png": "[encoded data removed]",
      "text/plain": [
       "<Figure size 432x288 with 1 Axes>"
      ]
     },
     "metadata": {
      "needs_background": "light"
     },
     "output_type": "display_data"
    }
   ],
   "source": [
    "# calculate sampling rate\n",
    "# we can speed this up if needed\n",
    "# it's not super constant\n",
    "timeDiff = df1.datetime.diff() / np.timedelta64(1, 's')\n",
    "plt.plot(1/timeDiff[:100])\n",
    "plt.ylabel(\"Hz\")\n",
    "plt.xlabel(\"sample num\")"
   ]
  },
  {
   "cell_type": "code",
   "execution_count": null,
   "metadata": {},
   "outputs": [],
   "source": []
  }
 ],
 "metadata": {
  "kernelspec": {
   "display_name": "Python 3",
   "language": "python",
   "name": "python3"
  },
  "language_info": {
   "codemirror_mode": {
    "name": "ipython",
    "version": 3
   },
   "file_extension": ".py",
   "mimetype": "text/x-python",
   "name": "python",
   "nbconvert_exporter": "python",
   "pygments_lexer": "ipython3",
   "version": "3.7.1"
  }
 },
 "nbformat": 4,
 "nbformat_minor": 2
}
