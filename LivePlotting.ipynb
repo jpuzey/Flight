{
 "cells": [
  {
   "cell_type": "code",
   "execution_count": null,
   "metadata": {},
   "outputs": [],
   "source": [
    "import matplotlib.pyplot as plt\n",
    "import matplotlib.animation as animation\n",
    "import matplotlib.dates as matdate\n",
    "from matplotlib import style\n",
    "import time\n",
    "import datetime as dt\n",
    "import csv\n",
    "\n",
    "style.use('bmh')\n",
    "\n",
    "fig = plt.figure()\n",
    "ax = fig.add_subplot(1,1,1)\n",
    "a=0\n",
    "\n",
    "def animate(i):\n",
    "    csvfile = open( '/Users/jpuzey/Dropbox/Research/Monarch_Flight/MonarchPesticides/data/2019_09_16__12_46_14_971159.csv', 'r+')       \n",
    "    df = csv.reader(csvfile, delimiter = ',')\n",
    "    next(df, None)\n",
    "    next(df, None)\n",
    "    next(df, None)\n",
    "\n",
    "    x=[] ; y1=[]; y2=[]; y3=[]\n",
    "\n",
    "    for column in df:\n",
    "        #print(column)\n",
    "        a = dt.datetime.strptime((column[7]), '%Y-%m-%d %H:%M:%S.%f')\n",
    "     #   a = df['ardno_usec_snce_lst_read'] + a\n",
    "        x.append((a))\n",
    "        y1.append(column[1])\n",
    "        y2.append(column[2])\n",
    "        y3.append(column[3])\n",
    "        #print(x)\n",
    "        ax.clear()\n",
    "        #ax.plot(x, y1, label = 'PM 1 ', linewidth=0.7)\n",
    "        ax.plot(y1, label = 'PM 1 ', linewidth=0.7)\n",
    "        \n",
    "ani = animation.FuncAnimation(fig, animate, interval=1000)\n",
    "\n",
    "plt.show()"
   ]
  },
  {
   "cell_type": "code",
   "execution_count": null,
   "metadata": {},
   "outputs": [],
   "source": []
  }
 ],
 "metadata": {
  "kernelspec": {
   "display_name": "Python 3",
   "language": "python",
   "name": "python3"
  },
  "language_info": {
   "codemirror_mode": {
    "name": "ipython",
    "version": 3
   },
   "file_extension": ".py",
   "mimetype": "text/x-python",
   "name": "python",
   "nbconvert_exporter": "python",
   "pygments_lexer": "ipython3",
   "version": "3.7.1"
  }
 },
 "nbformat": 4,
 "nbformat_minor": 2
}
